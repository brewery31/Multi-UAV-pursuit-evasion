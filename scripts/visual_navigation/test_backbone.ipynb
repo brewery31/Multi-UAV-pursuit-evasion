{
 "cells": [
  {
   "cell_type": "code",
   "execution_count": 1,
   "metadata": {},
   "outputs": [
    {
     "name": "stderr",
     "output_type": "stream",
     "text": [
      "/home/botian/miniconda3/envs/sim/lib/python3.7/site-packages/tqdm-4.64.1-py3.7.egg/tqdm/auto.py:22: TqdmWarning: IProgress not found. Please update jupyter and ipywidgets. See https://ipywidgets.readthedocs.io/en/stable/user_install.html\n",
      "  from .autonotebook import tqdm as notebook_tqdm\n"
     ]
    }
   ],
   "source": [
    "import torch\n",
    "import torch.nn as nn\n",
    "from torchvision.models import mobilenet_v3_small\n",
    "\n",
    "# data = torch.load(\"distance_to_camera.pth\")"
   ]
  },
  {
   "cell_type": "code",
   "execution_count": 15,
   "metadata": {},
   "outputs": [],
   "source": [
    "from tensordict import tensordict\n",
    "from tensordict.nn import TensorDictModule, TensorDictSequential\n",
    "from tensordict.nn.distributions import NormalParamExtractor\n",
    "from torchrl.envs.transforms import CatTensors\n",
    "from torchrl.data import TensorSpec, CompositeSpec\n",
    "from omni_drones.learning.utils.distributions import IndependentNormal\n",
    "from omni_drones.learning.utils.network import MLP\n",
    "\n",
    "class Actor(nn.Module):\n",
    "\n",
    "    def forward(self, loc, scale):\n",
    "        dist = IndependentNormal(loc, scale)\n",
    "        action = dist.sample()\n",
    "        logp = dist.log_prob(action)\n",
    "        return action, logp\n",
    "\n",
    "class ActorEval(nn.Module):\n",
    "\n",
    "    def forward(self, action, loc, scale):\n",
    "        dist = IndependentNormal(loc, scale)\n",
    "        logp = dist.log_prob(action)\n",
    "        entropy = dist.entropy()\n",
    "        return logp, entropy\n",
    "\n",
    "def make_model(\n",
    "    input_spec: CompositeSpec,\n",
    "    action_spec: TensorSpec,\n",
    "    device: torch.device\n",
    "):\n",
    "    visual_encoder = nn.Sequential(\n",
    "        nn.Conv2d(1, 3, 1),\n",
    "        mobilenet_v3_small(num_classes=128)\n",
    "    )\n",
    "    state_input_shape = input_spec[\"state\"].shape\n",
    "    state_encoder = MLP([state_input_shape[-1], 128], normalization=nn.LayerNorm)\n",
    "    encoder = TensorDictSequential(\n",
    "        TensorDictModule(visual_encoder, [(\"drone.obs\", \"distance_to_camera\")], [\"visual_feature\"]),\n",
    "        TensorDictModule(state_encoder, [(\"drone.obs\", \"state\")], [\"state_feature\"]),\n",
    "        TensorDictModule(CatTensors([\"state_feature\", \"visual_feature\"])),\n",
    "        TensorDictModule(MLP([128, action_spec.shape[-1] * 2])),\n",
    "        TensorDictModule(NormalParamExtractor(), [\"observation_vector\"], [\"loc\", \"scale\"]),\n",
    "    ).to(device)\n",
    "    actor = TensorDictSequential(\n",
    "        encoder,\n",
    "        TensorDictModule(Actor(), [\"loc\", \"scale\"], [\"action\", \"logp\"])\n",
    "    )\n",
    "    actor_eval = TensorDictSequential(\n",
    "        encoder,\n",
    "        TensorDictModule(ActorEval(), [\"drone.action\", \"loc\", \"scale\"], [\"logp\", \"entropy\"])\n",
    "    )\n",
    "    return actor, actor_eval \n",
    "\n",
    "actor, actor_eval = make_model()"
   ]
  }
 ],
 "metadata": {
  "kernelspec": {
   "display_name": "sim",
   "language": "python",
   "name": "python3"
  },
  "language_info": {
   "codemirror_mode": {
    "name": "ipython",
    "version": 3
   },
   "file_extension": ".py",
   "mimetype": "text/x-python",
   "name": "python",
   "nbconvert_exporter": "python",
   "pygments_lexer": "ipython3",
   "version": "3.7.16"
  },
  "orig_nbformat": 4
 },
 "nbformat": 4,
 "nbformat_minor": 2
}
