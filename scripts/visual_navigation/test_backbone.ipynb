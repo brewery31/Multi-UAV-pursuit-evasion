{
 "cells": [
  {
   "cell_type": "code",
   "execution_count": 1,
   "metadata": {},
   "outputs": [
    {
     "name": "stderr",
     "output_type": "stream",
     "text": [
      "/home/botian/miniconda3/envs/sim/lib/python3.7/site-packages/tqdm/auto.py:22: TqdmWarning: IProgress not found. Please update jupyter and ipywidgets. See https://ipywidgets.readthedocs.io/en/stable/user_install.html\n",
      "  from .autonotebook import tqdm as notebook_tqdm\n",
      "/home/botian/isaac_ws/rl/torchrl/data/replay_buffers/replay_buffers.py:152: UserWarning: Constructing replay buffer without specifying behaviour is no longer recommended, and will be deprecated in the future.\n",
      "  \"Constructing replay buffer without specifying behaviour is no longer \"\n"
     ]
    }
   ],
   "source": [
    "import torch\n",
    "import torch.nn as nn\n",
    "from torchvision.models import mobilenet_v3_small\n",
    "import matplotlib.pyplot as plt\n",
    "\n",
    "from tensordict import tensordict, MemmapTensor\n",
    "from tensordict.nn import TensorDictModule, TensorDictSequential\n",
    "from tensordict.nn.distributions import NormalParamExtractor\n",
    "from torchrl.envs.transforms import CatTensors\n",
    "from torchrl.data import TensorSpec, CompositeSpec\n",
    "\n",
    "# from omni_drones.learning.utils.distributions import IndependentNormal\n",
    "# from omni_drones.learning.utils.network import MLP\n",
    "from torchrl.data.replay_buffers.storages import LazyMemmapStorage\n",
    "from torchrl.data.replay_buffers import TensorDictReplayBuffer\n",
    "\n",
    "buffer = TensorDictReplayBuffer(\n",
    "    storage=LazyMemmapStorage(20, scratch_dir=\"tmp\")\n",
    ")"
   ]
  },
  {
   "cell_type": "code",
   "execution_count": 2,
   "metadata": {},
   "outputs": [],
   "source": [
    "data = torch.load(\"trajectories/0.pth\")"
   ]
  },
  {
   "cell_type": "code",
   "execution_count": null,
   "metadata": {},
   "outputs": [],
   "source": []
  },
  {
   "cell_type": "code",
   "execution_count": 15,
   "metadata": {},
   "outputs": [],
   "source": [
    "class Actor(nn.Module):\n",
    "\n",
    "    def forward(self, loc, scale):\n",
    "        dist = IndependentNormal(loc, scale)\n",
    "        action = dist.sample()\n",
    "        logp = dist.log_prob(action)\n",
    "        return action, logp\n",
    "\n",
    "class ActorEval(nn.Module):\n",
    "\n",
    "    def forward(self, action, loc, scale):\n",
    "        dist = IndependentNormal(loc, scale)\n",
    "        logp = dist.log_prob(action)\n",
    "        entropy = dist.entropy()\n",
    "        return logp, entropy\n",
    "\n",
    "def make_model(\n",
    "    input_spec: CompositeSpec,\n",
    "    action_spec: TensorSpec,\n",
    "    device: torch.device\n",
    "):\n",
    "    visual_encoder = nn.Sequential(\n",
    "        nn.Conv2d(1, 3, 1),\n",
    "        mobilenet_v3_small(num_classes=128)\n",
    "    )\n",
    "    state_input_shape = input_spec[\"state\"].shape\n",
    "    state_encoder = MLP([state_input_shape[-1], 128], normalization=nn.LayerNorm)\n",
    "    encoder = TensorDictSequential(\n",
    "        TensorDictModule(visual_encoder, [(\"drone.obs\", \"distance_to_camera\")], [\"visual_feature\"]),\n",
    "        TensorDictModule(state_encoder, [(\"drone.obs\", \"state\")], [\"state_feature\"]),\n",
    "        TensorDictModule(CatTensors([\"state_feature\", \"visual_feature\"])),\n",
    "        TensorDictModule(MLP([128 + 128, 128, action_spec.shape[-1] * 2])),\n",
    "        TensorDictModule(NormalParamExtractor(), [\"observation_vector\"], [\"loc\", \"scale\"]),\n",
    "    ).to(device)\n",
    "    actor = TensorDictSequential(\n",
    "        encoder,\n",
    "        TensorDictModule(Actor(), [\"loc\", \"scale\"], [\"action\", \"logp\"])\n",
    "    )\n",
    "    actor_eval = TensorDictSequential(\n",
    "        encoder,\n",
    "        TensorDictModule(ActorEval(), [\"drone.action\", \"loc\", \"scale\"], [\"logp\", \"entropy\"])\n",
    "    )\n",
    "    return actor, actor_eval \n",
    "\n",
    "actor, actor_eval = make_model()"
   ]
  }
 ],
 "metadata": {
  "kernelspec": {
   "display_name": "sim",
   "language": "python",
   "name": "python3"
  },
  "language_info": {
   "codemirror_mode": {
    "name": "ipython",
    "version": 3
   },
   "file_extension": ".py",
   "mimetype": "text/x-python",
   "name": "python",
   "nbconvert_exporter": "python",
   "pygments_lexer": "ipython3",
   "version": "3.7.16"
  },
  "orig_nbformat": 4
 },
 "nbformat": 4,
 "nbformat_minor": 2
}
